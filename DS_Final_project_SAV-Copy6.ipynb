{
 "cells": [
  {
   "cell_type": "code",
   "execution_count": 2,
   "metadata": {},
   "outputs": [],
   "source": [
    "# Загрузка библиотек"
   ]
  },
  {
   "cell_type": "code",
   "execution_count": 3,
   "metadata": {},
   "outputs": [],
   "source": [
    "import numpy as np\n",
    "import pandas as pd\n",
    "from sklearn.metrics import r2_score as r2, mean_absolute_error as mae, mean_squared_error as mse, accuracy_score\n",
    "from sklearn.model_selection import train_test_split, GridSearchCV\n",
    "from sklearn.ensemble import RandomForestRegressor, RandomForestClassifier\n",
    "from sklearn.linear_model import LinearRegression\n",
    "from sklearn.preprocessing import StandardScaler\n",
    "import matplotlib\n",
    "import matplotlib.image as img\n",
    "import matplotlib.pyplot as plt\n",
    "import seaborn as sns\n",
    "%matplotlib inline\n",
    "matplotlib.rcParams.update({'font.size': 14})"
   ]
  },
  {
   "cell_type": "code",
   "execution_count": 4,
   "metadata": {},
   "outputs": [],
   "source": [
    "# Чтение данных\n",
    "# Memory optimization"
   ]
  },
  {
   "cell_type": "code",
   "execution_count": 5,
   "metadata": {},
   "outputs": [],
   "source": [
    "DATASET_TRAIN = pd.read_csv('C:/Users/alexs/Final project/train.csv')\n",
    "DATASET_TEST = pd.read_csv('C:/Users/alexs/Final project/test.csv')\n"
   ]
  },
  {
   "cell_type": "code",
   "execution_count": 6,
   "metadata": {},
   "outputs": [],
   "source": [
    "def reduce_memory_usage(df):\n",
    "    \n",
    "    start_memory = df.memory_usage().sum() / 1024**2\n",
    "    print('Memory usage of dataframe is {:.2f} MB'.format(start_memory))\n",
    "    \n",
    "    for col in df.columns:\n",
    "        if df[col].dtypes.kind == 'i' or df[col].dtypes.kind == 'u':\n",
    "            if df[col].min() >= 0:\n",
    "                df[col] = pd.to_numeric(df[col], downcast='unsigned')\n",
    "            else:\n",
    "                df[col] = pd.to_numeric(df[col], downcast='integer')\n",
    "\n",
    "        elif df[col].dtypes.kind == 'f' or df[col].dtypes.kind == 'c':\n",
    "            df[col] = pd.to_numeric(df[col], downcast='float')\n",
    "\n",
    "        elif df[col].dtypes.kind == 'O':\n",
    "            num_unique_values = len(df[col].unique())\n",
    "            num_total_values = len(df[col])\n",
    "            if num_unique_values / num_total_values < 0.5:\n",
    "                df[col] = df[col].astype('category')\n",
    "    \n",
    "    end_memory = df.memory_usage().sum() / 1024**2\n",
    "    print('Memory usage after optimization is: {:.2f} MB'.format(end_memory))\n",
    "    print('Decreased by {:.1f}%'.format(100 * (start_memory - end_memory) / start_memory))\n",
    "    \n",
    "    return df"
   ]
  },
  {
   "cell_type": "code",
   "execution_count": 7,
   "metadata": {},
   "outputs": [
    {
     "name": "stdout",
     "output_type": "stream",
     "text": [
      "Memory usage of dataframe is 1.53 MB\n",
      "Memory usage after optimization is: 0.47 MB\n",
      "Decreased by 69.4%\n",
      "Memory usage of dataframe is 0.72 MB\n",
      "Memory usage after optimization is: 0.21 MB\n",
      "Decreased by 71.7%\n"
     ]
    }
   ],
   "source": [
    "DATASET_TRAIN = reduce_memory_usage(DATASET_TRAIN)\n",
    "DATASET_TEST = reduce_memory_usage(DATASET_TEST)"
   ]
  },
  {
   "cell_type": "code",
   "execution_count": 8,
   "metadata": {},
   "outputs": [
    {
     "name": "stdout",
     "output_type": "stream",
     "text": [
      "<class 'pandas.core.frame.DataFrame'>\n",
      "RangeIndex: 10000 entries, 0 to 9999\n",
      "Data columns (total 20 columns):\n",
      " #   Column         Non-Null Count  Dtype   \n",
      "---  ------         --------------  -----   \n",
      " 0   Id             10000 non-null  uint16  \n",
      " 1   DistrictId     10000 non-null  uint8   \n",
      " 2   Rooms          10000 non-null  float32 \n",
      " 3   Square         10000 non-null  float32 \n",
      " 4   LifeSquare     7887 non-null   float32 \n",
      " 5   KitchenSquare  10000 non-null  float32 \n",
      " 6   Floor          10000 non-null  uint8   \n",
      " 7   HouseFloor     10000 non-null  float32 \n",
      " 8   HouseYear      10000 non-null  uint32  \n",
      " 9   Ecology_1      10000 non-null  float32 \n",
      " 10  Ecology_2      10000 non-null  category\n",
      " 11  Ecology_3      10000 non-null  category\n",
      " 12  Social_1       10000 non-null  uint8   \n",
      " 13  Social_2       10000 non-null  uint16  \n",
      " 14  Social_3       10000 non-null  uint8   \n",
      " 15  Healthcare_1   5202 non-null   float32 \n",
      " 16  Helthcare_2    10000 non-null  uint8   \n",
      " 17  Shops_1        10000 non-null  uint8   \n",
      " 18  Shops_2        10000 non-null  category\n",
      " 19  Price          10000 non-null  float32 \n",
      "dtypes: category(3), float32(8), uint16(2), uint32(1), uint8(6)\n",
      "memory usage: 478.9 KB\n",
      "None\n",
      "<class 'pandas.core.frame.DataFrame'>\n",
      "RangeIndex: 5000 entries, 0 to 4999\n",
      "Data columns (total 19 columns):\n",
      " #   Column         Non-Null Count  Dtype   \n",
      "---  ------         --------------  -----   \n",
      " 0   Id             5000 non-null   uint16  \n",
      " 1   DistrictId     5000 non-null   uint8   \n",
      " 2   Rooms          5000 non-null   float32 \n",
      " 3   Square         5000 non-null   float32 \n",
      " 4   LifeSquare     3959 non-null   float32 \n",
      " 5   KitchenSquare  5000 non-null   float32 \n",
      " 6   Floor          5000 non-null   uint8   \n",
      " 7   HouseFloor     5000 non-null   float32 \n",
      " 8   HouseYear      5000 non-null   uint16  \n",
      " 9   Ecology_1      5000 non-null   float32 \n",
      " 10  Ecology_2      5000 non-null   category\n",
      " 11  Ecology_3      5000 non-null   category\n",
      " 12  Social_1       5000 non-null   uint8   \n",
      " 13  Social_2       5000 non-null   uint16  \n",
      " 14  Social_3       5000 non-null   uint8   \n",
      " 15  Healthcare_1   2623 non-null   float32 \n",
      " 16  Helthcare_2    5000 non-null   uint8   \n",
      " 17  Shops_1        5000 non-null   uint8   \n",
      " 18  Shops_2        5000 non-null   category\n",
      "dtypes: category(3), float32(7), uint16(3), uint8(6)\n",
      "memory usage: 210.4 KB\n",
      "None\n"
     ]
    }
   ],
   "source": [
    "df_train = DATASET_TRAIN\n",
    "df_test = DATASET_TEST\n",
    "print(df_train.info())\n",
    "print(df_test.info())"
   ]
  },
  {
   "cell_type": "code",
   "execution_count": 9,
   "metadata": {},
   "outputs": [
    {
     "data": {
      "text/html": [
       "<div>\n",
       "<style scoped>\n",
       "    .dataframe tbody tr th:only-of-type {\n",
       "        vertical-align: middle;\n",
       "    }\n",
       "\n",
       "    .dataframe tbody tr th {\n",
       "        vertical-align: top;\n",
       "    }\n",
       "\n",
       "    .dataframe thead th {\n",
       "        text-align: right;\n",
       "    }\n",
       "</style>\n",
       "<table border=\"1\" class=\"dataframe\">\n",
       "  <thead>\n",
       "    <tr style=\"text-align: right;\">\n",
       "      <th></th>\n",
       "      <th>Id</th>\n",
       "      <th>DistrictId</th>\n",
       "      <th>Rooms</th>\n",
       "      <th>Square</th>\n",
       "      <th>LifeSquare</th>\n",
       "      <th>KitchenSquare</th>\n",
       "      <th>Floor</th>\n",
       "      <th>HouseFloor</th>\n",
       "      <th>HouseYear</th>\n",
       "      <th>Ecology_1</th>\n",
       "      <th>Ecology_2</th>\n",
       "      <th>Ecology_3</th>\n",
       "      <th>Social_1</th>\n",
       "      <th>Social_2</th>\n",
       "      <th>Social_3</th>\n",
       "      <th>Healthcare_1</th>\n",
       "      <th>Helthcare_2</th>\n",
       "      <th>Shops_1</th>\n",
       "      <th>Shops_2</th>\n",
       "      <th>Price</th>\n",
       "    </tr>\n",
       "  </thead>\n",
       "  <tbody>\n",
       "    <tr>\n",
       "      <th>0</th>\n",
       "      <td>725</td>\n",
       "      <td>58</td>\n",
       "      <td>2.0</td>\n",
       "      <td>49.882645</td>\n",
       "      <td>33.432781</td>\n",
       "      <td>6.0</td>\n",
       "      <td>6</td>\n",
       "      <td>14.0</td>\n",
       "      <td>1972</td>\n",
       "      <td>0.310199</td>\n",
       "      <td>B</td>\n",
       "      <td>B</td>\n",
       "      <td>11</td>\n",
       "      <td>2748</td>\n",
       "      <td>1</td>\n",
       "      <td>NaN</td>\n",
       "      <td>0</td>\n",
       "      <td>0</td>\n",
       "      <td>B</td>\n",
       "      <td>0</td>\n",
       "    </tr>\n",
       "    <tr>\n",
       "      <th>1</th>\n",
       "      <td>15856</td>\n",
       "      <td>74</td>\n",
       "      <td>2.0</td>\n",
       "      <td>69.263184</td>\n",
       "      <td>NaN</td>\n",
       "      <td>1.0</td>\n",
       "      <td>6</td>\n",
       "      <td>1.0</td>\n",
       "      <td>1977</td>\n",
       "      <td>0.075779</td>\n",
       "      <td>B</td>\n",
       "      <td>B</td>\n",
       "      <td>6</td>\n",
       "      <td>1437</td>\n",
       "      <td>3</td>\n",
       "      <td>NaN</td>\n",
       "      <td>0</td>\n",
       "      <td>2</td>\n",
       "      <td>B</td>\n",
       "      <td>0</td>\n",
       "    </tr>\n",
       "    <tr>\n",
       "      <th>2</th>\n",
       "      <td>5480</td>\n",
       "      <td>190</td>\n",
       "      <td>1.0</td>\n",
       "      <td>13.597818</td>\n",
       "      <td>15.948246</td>\n",
       "      <td>12.0</td>\n",
       "      <td>2</td>\n",
       "      <td>5.0</td>\n",
       "      <td>1909</td>\n",
       "      <td>0.000000</td>\n",
       "      <td>B</td>\n",
       "      <td>B</td>\n",
       "      <td>30</td>\n",
       "      <td>7538</td>\n",
       "      <td>87</td>\n",
       "      <td>4702.0</td>\n",
       "      <td>5</td>\n",
       "      <td>5</td>\n",
       "      <td>B</td>\n",
       "      <td>0</td>\n",
       "    </tr>\n",
       "    <tr>\n",
       "      <th>3</th>\n",
       "      <td>15664</td>\n",
       "      <td>47</td>\n",
       "      <td>2.0</td>\n",
       "      <td>73.046608</td>\n",
       "      <td>51.940842</td>\n",
       "      <td>9.0</td>\n",
       "      <td>22</td>\n",
       "      <td>22.0</td>\n",
       "      <td>2007</td>\n",
       "      <td>0.101872</td>\n",
       "      <td>B</td>\n",
       "      <td>B</td>\n",
       "      <td>23</td>\n",
       "      <td>4583</td>\n",
       "      <td>3</td>\n",
       "      <td>NaN</td>\n",
       "      <td>3</td>\n",
       "      <td>3</td>\n",
       "      <td>B</td>\n",
       "      <td>0</td>\n",
       "    </tr>\n",
       "    <tr>\n",
       "      <th>4</th>\n",
       "      <td>14275</td>\n",
       "      <td>27</td>\n",
       "      <td>1.0</td>\n",
       "      <td>47.527111</td>\n",
       "      <td>43.387569</td>\n",
       "      <td>1.0</td>\n",
       "      <td>17</td>\n",
       "      <td>17.0</td>\n",
       "      <td>2017</td>\n",
       "      <td>0.072158</td>\n",
       "      <td>B</td>\n",
       "      <td>B</td>\n",
       "      <td>2</td>\n",
       "      <td>629</td>\n",
       "      <td>1</td>\n",
       "      <td>NaN</td>\n",
       "      <td>0</td>\n",
       "      <td>0</td>\n",
       "      <td>A</td>\n",
       "      <td>0</td>\n",
       "    </tr>\n",
       "  </tbody>\n",
       "</table>\n",
       "</div>"
      ],
      "text/plain": [
       "      Id  DistrictId  Rooms     Square  LifeSquare  KitchenSquare  Floor  \\\n",
       "0    725          58    2.0  49.882645   33.432781            6.0      6   \n",
       "1  15856          74    2.0  69.263184         NaN            1.0      6   \n",
       "2   5480         190    1.0  13.597818   15.948246           12.0      2   \n",
       "3  15664          47    2.0  73.046608   51.940842            9.0     22   \n",
       "4  14275          27    1.0  47.527111   43.387569            1.0     17   \n",
       "\n",
       "   HouseFloor  HouseYear  Ecology_1 Ecology_2 Ecology_3  Social_1  Social_2  \\\n",
       "0        14.0       1972   0.310199         B         B        11      2748   \n",
       "1         1.0       1977   0.075779         B         B         6      1437   \n",
       "2         5.0       1909   0.000000         B         B        30      7538   \n",
       "3        22.0       2007   0.101872         B         B        23      4583   \n",
       "4        17.0       2017   0.072158         B         B         2       629   \n",
       "\n",
       "   Social_3  Healthcare_1  Helthcare_2  Shops_1 Shops_2  Price  \n",
       "0         1           NaN            0        0       B      0  \n",
       "1         3           NaN            0        2       B      0  \n",
       "2        87        4702.0            5        5       B      0  \n",
       "3         3           NaN            3        3       B      0  \n",
       "4         1           NaN            0        0       A      0  "
      ]
     },
     "execution_count": 9,
     "metadata": {},
     "output_type": "execute_result"
    }
   ],
   "source": [
    "# Добавляем 'Price' в тестовые данные\n",
    "df_test['Price'] = 0\n",
    "df_test.head()"
   ]
  },
  {
   "cell_type": "code",
   "execution_count": 10,
   "metadata": {},
   "outputs": [],
   "source": [
    "# Визуалиpуем целевую переменную"
   ]
  },
  {
   "cell_type": "code",
   "execution_count": 11,
   "metadata": {},
   "outputs": [
    {
     "name": "stderr",
     "output_type": "stream",
     "text": [
      "C:\\ProgramData\\Anaconda3\\lib\\site-packages\\seaborn\\distributions.py:2551: FutureWarning: `distplot` is a deprecated function and will be removed in a future version. Please adapt your code to use either `displot` (a figure-level function with similar flexibility) or `histplot` (an axes-level function for histograms).\n",
      "  warnings.warn(msg, FutureWarning)\n"
     ]
    },
    {
     "data": {
      "image/png": "[encoded data removed]",
      "text/plain": [
       "<Figure size 1152x576 with 1 Axes>"
      ]
     },
     "metadata": {
      "needs_background": "light"
     },
     "output_type": "display_data"
    }
   ],
   "source": [
    "target_mean = round(df_train['Price'].mean(), 2)\n",
    "target_median = df_train['Price'].median()\n",
    "target_mode = df_train['Price'].mode()[0]\n",
    "\n",
    "target_mean, target_median, target_mode\n",
    "\n",
    "plt.figure(figsize = (16, 8))\n",
    "\n",
    "sns.distplot(df_train['Price'])\n",
    "\n",
    "y = np.linspace(0, 0.000005, 100)\n",
    "plt.plot([target_mean] * 100, y, label='mean', linestyle=':', linewidth=4)\n",
    "plt.plot([target_median] * 100, y, label='median', linestyle='--', linewidth=4)\n",
    "plt.plot([target_mode] * 100, y, label='mode', linestyle='-.', linewidth=4)\n",
    "\n",
    "plt.title('Distribution of median_house_value')\n",
    "plt.legend()\n",
    "plt.show()"
   ]
  },
  {
   "cell_type": "code",
   "execution_count": 12,
   "metadata": {},
   "outputs": [],
   "source": [
    "# Проверка данных"
   ]
  },
  {
   "cell_type": "code",
   "execution_count": 13,
   "metadata": {},
   "outputs": [],
   "source": [
    "# Обработка признаков"
   ]
  },
  {
   "cell_type": "code",
   "execution_count": 14,
   "metadata": {},
   "outputs": [
    {
     "data": {
      "text/html": [
       "<div>\n",
       "<style scoped>\n",
       "    .dataframe tbody tr th:only-of-type {\n",
       "        vertical-align: middle;\n",
       "    }\n",
       "\n",
       "    .dataframe tbody tr th {\n",
       "        vertical-align: top;\n",
       "    }\n",
       "\n",
       "    .dataframe thead th {\n",
       "        text-align: right;\n",
       "    }\n",
       "</style>\n",
       "<table border=\"1\" class=\"dataframe\">\n",
       "  <thead>\n",
       "    <tr style=\"text-align: right;\">\n",
       "      <th></th>\n",
       "      <th>Id</th>\n",
       "      <th>DistrictId</th>\n",
       "      <th>Rooms</th>\n",
       "      <th>Square</th>\n",
       "      <th>LifeSquare</th>\n",
       "      <th>KitchenSquare</th>\n",
       "      <th>Floor</th>\n",
       "      <th>HouseFloor</th>\n",
       "      <th>HouseYear</th>\n",
       "      <th>Ecology_1</th>\n",
       "      <th>Ecology_2</th>\n",
       "      <th>Ecology_3</th>\n",
       "      <th>Social_1</th>\n",
       "      <th>Social_2</th>\n",
       "      <th>Social_3</th>\n",
       "      <th>Healthcare_1</th>\n",
       "      <th>Helthcare_2</th>\n",
       "      <th>Shops_1</th>\n",
       "      <th>Shops_2</th>\n",
       "      <th>Price</th>\n",
       "    </tr>\n",
       "  </thead>\n",
       "  <tbody>\n",
       "    <tr>\n",
       "      <th>0</th>\n",
       "      <td>14038</td>\n",
       "      <td>35</td>\n",
       "      <td>2.0</td>\n",
       "      <td>47.981560</td>\n",
       "      <td>29.442751</td>\n",
       "      <td>6.0</td>\n",
       "      <td>7</td>\n",
       "      <td>9.0</td>\n",
       "      <td>1969</td>\n",
       "      <td>0.089040</td>\n",
       "      <td>B</td>\n",
       "      <td>B</td>\n",
       "      <td>33</td>\n",
       "      <td>7976</td>\n",
       "      <td>5</td>\n",
       "      <td>NaN</td>\n",
       "      <td>0</td>\n",
       "      <td>11</td>\n",
       "      <td>B</td>\n",
       "      <td>184966.937500</td>\n",
       "    </tr>\n",
       "    <tr>\n",
       "      <th>1</th>\n",
       "      <td>15053</td>\n",
       "      <td>41</td>\n",
       "      <td>3.0</td>\n",
       "      <td>65.683640</td>\n",
       "      <td>40.049541</td>\n",
       "      <td>8.0</td>\n",
       "      <td>7</td>\n",
       "      <td>9.0</td>\n",
       "      <td>1978</td>\n",
       "      <td>0.000070</td>\n",
       "      <td>B</td>\n",
       "      <td>B</td>\n",
       "      <td>46</td>\n",
       "      <td>10309</td>\n",
       "      <td>1</td>\n",
       "      <td>240.0</td>\n",
       "      <td>1</td>\n",
       "      <td>16</td>\n",
       "      <td>B</td>\n",
       "      <td>300009.437500</td>\n",
       "    </tr>\n",
       "    <tr>\n",
       "      <th>2</th>\n",
       "      <td>4765</td>\n",
       "      <td>53</td>\n",
       "      <td>2.0</td>\n",
       "      <td>44.947952</td>\n",
       "      <td>29.197611</td>\n",
       "      <td>0.0</td>\n",
       "      <td>8</td>\n",
       "      <td>12.0</td>\n",
       "      <td>1968</td>\n",
       "      <td>0.049637</td>\n",
       "      <td>B</td>\n",
       "      <td>B</td>\n",
       "      <td>34</td>\n",
       "      <td>7759</td>\n",
       "      <td>0</td>\n",
       "      <td>229.0</td>\n",
       "      <td>1</td>\n",
       "      <td>3</td>\n",
       "      <td>B</td>\n",
       "      <td>220925.906250</td>\n",
       "    </tr>\n",
       "    <tr>\n",
       "      <th>3</th>\n",
       "      <td>5809</td>\n",
       "      <td>58</td>\n",
       "      <td>2.0</td>\n",
       "      <td>53.352982</td>\n",
       "      <td>52.731510</td>\n",
       "      <td>9.0</td>\n",
       "      <td>8</td>\n",
       "      <td>17.0</td>\n",
       "      <td>1977</td>\n",
       "      <td>0.437885</td>\n",
       "      <td>B</td>\n",
       "      <td>B</td>\n",
       "      <td>23</td>\n",
       "      <td>5735</td>\n",
       "      <td>3</td>\n",
       "      <td>1084.0</td>\n",
       "      <td>0</td>\n",
       "      <td>5</td>\n",
       "      <td>B</td>\n",
       "      <td>175616.234375</td>\n",
       "    </tr>\n",
       "    <tr>\n",
       "      <th>4</th>\n",
       "      <td>10783</td>\n",
       "      <td>99</td>\n",
       "      <td>1.0</td>\n",
       "      <td>39.649193</td>\n",
       "      <td>23.776169</td>\n",
       "      <td>7.0</td>\n",
       "      <td>11</td>\n",
       "      <td>12.0</td>\n",
       "      <td>1976</td>\n",
       "      <td>0.012339</td>\n",
       "      <td>B</td>\n",
       "      <td>B</td>\n",
       "      <td>35</td>\n",
       "      <td>5776</td>\n",
       "      <td>1</td>\n",
       "      <td>2078.0</td>\n",
       "      <td>2</td>\n",
       "      <td>4</td>\n",
       "      <td>B</td>\n",
       "      <td>150226.531250</td>\n",
       "    </tr>\n",
       "  </tbody>\n",
       "</table>\n",
       "</div>"
      ],
      "text/plain": [
       "      Id  DistrictId  Rooms     Square  LifeSquare  KitchenSquare  Floor  \\\n",
       "0  14038          35    2.0  47.981560   29.442751            6.0      7   \n",
       "1  15053          41    3.0  65.683640   40.049541            8.0      7   \n",
       "2   4765          53    2.0  44.947952   29.197611            0.0      8   \n",
       "3   5809          58    2.0  53.352982   52.731510            9.0      8   \n",
       "4  10783          99    1.0  39.649193   23.776169            7.0     11   \n",
       "\n",
       "   HouseFloor  HouseYear  Ecology_1 Ecology_2 Ecology_3  Social_1  Social_2  \\\n",
       "0         9.0       1969   0.089040         B         B        33      7976   \n",
       "1         9.0       1978   0.000070         B         B        46     10309   \n",
       "2        12.0       1968   0.049637         B         B        34      7759   \n",
       "3        17.0       1977   0.437885         B         B        23      5735   \n",
       "4        12.0       1976   0.012339         B         B        35      5776   \n",
       "\n",
       "   Social_3  Healthcare_1  Helthcare_2  Shops_1 Shops_2          Price  \n",
       "0         5           NaN            0       11       B  184966.937500  \n",
       "1         1         240.0            1       16       B  300009.437500  \n",
       "2         0         229.0            1        3       B  220925.906250  \n",
       "3         3        1084.0            0        5       B  175616.234375  \n",
       "4         1        2078.0            2        4       B  150226.531250  "
      ]
     },
     "execution_count": 14,
     "metadata": {},
     "output_type": "execute_result"
    }
   ],
   "source": [
    "df = pd.concat([df_train, df_test], axis=0)\n",
    "df.head()"
   ]
  },
  {
   "cell_type": "code",
   "execution_count": 15,
   "metadata": {},
   "outputs": [
    {
     "name": "stdout",
     "output_type": "stream",
     "text": [
      "<class 'pandas.core.frame.DataFrame'>\n",
      "Int64Index: 15000 entries, 0 to 4999\n",
      "Data columns (total 20 columns):\n",
      " #   Column         Non-Null Count  Dtype   \n",
      "---  ------         --------------  -----   \n",
      " 0   Id             15000 non-null  uint16  \n",
      " 1   DistrictId     15000 non-null  uint8   \n",
      " 2   Rooms          15000 non-null  float32 \n",
      " 3   Square         15000 non-null  float32 \n",
      " 4   LifeSquare     11846 non-null  float32 \n",
      " 5   KitchenSquare  15000 non-null  float32 \n",
      " 6   Floor          15000 non-null  uint8   \n",
      " 7   HouseFloor     15000 non-null  float32 \n",
      " 8   HouseYear      15000 non-null  uint32  \n",
      " 9   Ecology_1      15000 non-null  float32 \n",
      " 10  Ecology_2      15000 non-null  category\n",
      " 11  Ecology_3      15000 non-null  category\n",
      " 12  Social_1       15000 non-null  uint8   \n",
      " 13  Social_2       15000 non-null  uint16  \n",
      " 14  Social_3       15000 non-null  uint8   \n",
      " 15  Healthcare_1   7825 non-null   float32 \n",
      " 16  Helthcare_2    15000 non-null  uint8   \n",
      " 17  Shops_1        15000 non-null  uint8   \n",
      " 18  Shops_2        15000 non-null  category\n",
      " 19  Price          15000 non-null  float64 \n",
      "dtypes: category(3), float32(7), float64(1), uint16(2), uint32(1), uint8(6)\n",
      "memory usage: 893.8 KB\n"
     ]
    }
   ],
   "source": [
    "df.info()"
   ]
  },
  {
   "cell_type": "code",
   "execution_count": 16,
   "metadata": {},
   "outputs": [],
   "source": [
    "# Обработка типов 'Category'"
   ]
  },
  {
   "cell_type": "code",
   "execution_count": 17,
   "metadata": {},
   "outputs": [],
   "source": [
    "df.replace({'Ecology_2': {'A': 0, 'B': 1}}, inplace=True)\n",
    "df.replace({'Ecology_3': {'A': 0, 'B': 1}}, inplace=True)\n",
    "df.replace({'Shops_2': {'A': 0, 'B': 1}}, inplace=True)"
   ]
  },
  {
   "cell_type": "code",
   "execution_count": 18,
   "metadata": {},
   "outputs": [],
   "source": [
    "# Корреляция количественных признаков"
   ]
  },
  {
   "cell_type": "code",
   "execution_count": 19,
   "metadata": {},
   "outputs": [
    {
     "data": {
      "text/plain": [
       "(15000, 16)"
      ]
     },
     "execution_count": 19,
     "metadata": {},
     "output_type": "execute_result"
    }
   ],
   "source": [
    "df_non_binary_features = df[['DistrictId', \n",
    "                            'Rooms', \n",
    "                            'Square', \n",
    "                            'LifeSquare', \n",
    "                            'KitchenSquare', \n",
    "                            'Floor', \n",
    "                            'HouseFloor', \n",
    "                            'HouseYear', \n",
    "                            'Ecology_1', \n",
    "                            'Social_1', \n",
    "                            'Social_2', \n",
    "                            'Social_3', \n",
    "                            'Healthcare_1', \n",
    "                            'Helthcare_2', \n",
    "                            'Shops_1', \n",
    "                            'Price']]\n",
    "df_non_binary_features.shape"
   ]
  },
  {
   "cell_type": "code",
   "execution_count": 20,
   "metadata": {},
   "outputs": [
    {
     "data": {
      "text/html": [
       "<div>\n",
       "<style scoped>\n",
       "    .dataframe tbody tr th:only-of-type {\n",
       "        vertical-align: middle;\n",
       "    }\n",
       "\n",
       "    .dataframe tbody tr th {\n",
       "        vertical-align: top;\n",
       "    }\n",
       "\n",
       "    .dataframe thead th {\n",
       "        text-align: right;\n",
       "    }\n",
       "</style>\n",
       "<table border=\"1\" class=\"dataframe\">\n",
       "  <thead>\n",
       "    <tr style=\"text-align: right;\">\n",
       "      <th></th>\n",
       "      <th>DistrictId</th>\n",
       "      <th>Rooms</th>\n",
       "      <th>Square</th>\n",
       "      <th>LifeSquare</th>\n",
       "      <th>KitchenSquare</th>\n",
       "      <th>Floor</th>\n",
       "      <th>HouseFloor</th>\n",
       "      <th>HouseYear</th>\n",
       "      <th>Ecology_1</th>\n",
       "      <th>Social_1</th>\n",
       "      <th>Social_2</th>\n",
       "      <th>Social_3</th>\n",
       "      <th>Healthcare_1</th>\n",
       "      <th>Helthcare_2</th>\n",
       "      <th>Shops_1</th>\n",
       "      <th>Price</th>\n",
       "    </tr>\n",
       "  </thead>\n",
       "  <tbody>\n",
       "    <tr>\n",
       "      <th>DistrictId</th>\n",
       "      <td>1.000000</td>\n",
       "      <td>0.063861</td>\n",
       "      <td>-0.030043</td>\n",
       "      <td>-0.021397</td>\n",
       "      <td>0.042293</td>\n",
       "      <td>-0.123774</td>\n",
       "      <td>-0.150007</td>\n",
       "      <td>0.010853</td>\n",
       "      <td>0.070427</td>\n",
       "      <td>0.238062</td>\n",
       "      <td>0.160131</td>\n",
       "      <td>0.134509</td>\n",
       "      <td>0.307696</td>\n",
       "      <td>0.296534</td>\n",
       "      <td>0.168543</td>\n",
       "      <td>0.121846</td>\n",
       "    </tr>\n",
       "    <tr>\n",
       "      <th>Rooms</th>\n",
       "      <td>0.063861</td>\n",
       "      <td>1.000000</td>\n",
       "      <td>0.685344</td>\n",
       "      <td>0.152914</td>\n",
       "      <td>0.011596</td>\n",
       "      <td>-0.008179</td>\n",
       "      <td>-0.022225</td>\n",
       "      <td>-0.008731</td>\n",
       "      <td>-0.025705</td>\n",
       "      <td>0.074193</td>\n",
       "      <td>0.070390</td>\n",
       "      <td>0.006296</td>\n",
       "      <td>0.036978</td>\n",
       "      <td>0.052050</td>\n",
       "      <td>0.048053</td>\n",
       "      <td>0.261180</td>\n",
       "    </tr>\n",
       "    <tr>\n",
       "      <th>Square</th>\n",
       "      <td>-0.030043</td>\n",
       "      <td>0.685344</td>\n",
       "      <td>1.000000</td>\n",
       "      <td>0.218687</td>\n",
       "      <td>0.012461</td>\n",
       "      <td>0.113981</td>\n",
       "      <td>0.098070</td>\n",
       "      <td>-0.007613</td>\n",
       "      <td>-0.061655</td>\n",
       "      <td>-0.075502</td>\n",
       "      <td>-0.045846</td>\n",
       "      <td>0.025319</td>\n",
       "      <td>-0.046132</td>\n",
       "      <td>-0.036891</td>\n",
       "      <td>0.011542</td>\n",
       "      <td>0.260489</td>\n",
       "    </tr>\n",
       "    <tr>\n",
       "      <th>LifeSquare</th>\n",
       "      <td>-0.021397</td>\n",
       "      <td>0.152914</td>\n",
       "      <td>0.218687</td>\n",
       "      <td>1.000000</td>\n",
       "      <td>-0.000882</td>\n",
       "      <td>0.027075</td>\n",
       "      <td>0.032258</td>\n",
       "      <td>-0.002140</td>\n",
       "      <td>-0.023770</td>\n",
       "      <td>-0.049769</td>\n",
       "      <td>-0.039856</td>\n",
       "      <td>0.013081</td>\n",
       "      <td>-0.034083</td>\n",
       "      <td>-0.025998</td>\n",
       "      <td>-0.007327</td>\n",
       "      <td>0.053203</td>\n",
       "    </tr>\n",
       "    <tr>\n",
       "      <th>KitchenSquare</th>\n",
       "      <td>0.042293</td>\n",
       "      <td>0.011596</td>\n",
       "      <td>0.012461</td>\n",
       "      <td>-0.000882</td>\n",
       "      <td>1.000000</td>\n",
       "      <td>-0.010622</td>\n",
       "      <td>0.010683</td>\n",
       "      <td>0.000965</td>\n",
       "      <td>-0.003893</td>\n",
       "      <td>0.052472</td>\n",
       "      <td>0.046534</td>\n",
       "      <td>-0.017227</td>\n",
       "      <td>0.011231</td>\n",
       "      <td>0.044913</td>\n",
       "      <td>0.012194</td>\n",
       "      <td>0.021485</td>\n",
       "    </tr>\n",
       "    <tr>\n",
       "      <th>Floor</th>\n",
       "      <td>-0.123774</td>\n",
       "      <td>-0.008179</td>\n",
       "      <td>0.113981</td>\n",
       "      <td>0.027075</td>\n",
       "      <td>-0.010622</td>\n",
       "      <td>1.000000</td>\n",
       "      <td>0.434156</td>\n",
       "      <td>0.000703</td>\n",
       "      <td>-0.020034</td>\n",
       "      <td>-0.043501</td>\n",
       "      <td>-0.012720</td>\n",
       "      <td>0.001016</td>\n",
       "      <td>-0.131583</td>\n",
       "      <td>-0.059731</td>\n",
       "      <td>0.030623</td>\n",
       "      <td>0.054690</td>\n",
       "    </tr>\n",
       "    <tr>\n",
       "      <th>HouseFloor</th>\n",
       "      <td>-0.150007</td>\n",
       "      <td>-0.022225</td>\n",
       "      <td>0.098070</td>\n",
       "      <td>0.032258</td>\n",
       "      <td>0.010683</td>\n",
       "      <td>0.434156</td>\n",
       "      <td>1.000000</td>\n",
       "      <td>-0.000686</td>\n",
       "      <td>-0.015168</td>\n",
       "      <td>-0.025846</td>\n",
       "      <td>0.003794</td>\n",
       "      <td>-0.014608</td>\n",
       "      <td>-0.149781</td>\n",
       "      <td>-0.072358</td>\n",
       "      <td>0.023358</td>\n",
       "      <td>0.043730</td>\n",
       "    </tr>\n",
       "    <tr>\n",
       "      <th>HouseYear</th>\n",
       "      <td>0.010853</td>\n",
       "      <td>-0.008731</td>\n",
       "      <td>-0.007613</td>\n",
       "      <td>-0.002140</td>\n",
       "      <td>0.000965</td>\n",
       "      <td>0.000703</td>\n",
       "      <td>-0.000686</td>\n",
       "      <td>1.000000</td>\n",
       "      <td>0.001166</td>\n",
       "      <td>0.002430</td>\n",
       "      <td>0.001569</td>\n",
       "      <td>0.000640</td>\n",
       "      <td>-0.009705</td>\n",
       "      <td>0.009205</td>\n",
       "      <td>0.003005</td>\n",
       "      <td>0.007204</td>\n",
       "    </tr>\n",
       "    <tr>\n",
       "      <th>Ecology_1</th>\n",
       "      <td>0.070427</td>\n",
       "      <td>-0.025705</td>\n",
       "      <td>-0.061655</td>\n",
       "      <td>-0.023770</td>\n",
       "      <td>-0.003893</td>\n",
       "      <td>-0.020034</td>\n",
       "      <td>-0.015168</td>\n",
       "      <td>0.001166</td>\n",
       "      <td>1.000000</td>\n",
       "      <td>0.023236</td>\n",
       "      <td>0.006529</td>\n",
       "      <td>-0.122797</td>\n",
       "      <td>-0.036873</td>\n",
       "      <td>0.028627</td>\n",
       "      <td>-0.076433</td>\n",
       "      <td>-0.031755</td>\n",
       "    </tr>\n",
       "    <tr>\n",
       "      <th>Social_1</th>\n",
       "      <td>0.238062</td>\n",
       "      <td>0.074193</td>\n",
       "      <td>-0.075502</td>\n",
       "      <td>-0.049769</td>\n",
       "      <td>0.052472</td>\n",
       "      <td>-0.043501</td>\n",
       "      <td>-0.025846</td>\n",
       "      <td>0.002430</td>\n",
       "      <td>0.023236</td>\n",
       "      <td>1.000000</td>\n",
       "      <td>0.955933</td>\n",
       "      <td>0.022367</td>\n",
       "      <td>0.066335</td>\n",
       "      <td>0.522179</td>\n",
       "      <td>0.527161</td>\n",
       "      <td>0.123805</td>\n",
       "    </tr>\n",
       "    <tr>\n",
       "      <th>Social_2</th>\n",
       "      <td>0.160131</td>\n",
       "      <td>0.070390</td>\n",
       "      <td>-0.045846</td>\n",
       "      <td>-0.039856</td>\n",
       "      <td>0.046534</td>\n",
       "      <td>-0.012720</td>\n",
       "      <td>0.003794</td>\n",
       "      <td>0.001569</td>\n",
       "      <td>0.006529</td>\n",
       "      <td>0.955933</td>\n",
       "      <td>1.000000</td>\n",
       "      <td>0.070614</td>\n",
       "      <td>0.039342</td>\n",
       "      <td>0.471050</td>\n",
       "      <td>0.559477</td>\n",
       "      <td>0.111976</td>\n",
       "    </tr>\n",
       "    <tr>\n",
       "      <th>Social_3</th>\n",
       "      <td>0.134509</td>\n",
       "      <td>0.006296</td>\n",
       "      <td>0.025319</td>\n",
       "      <td>0.013081</td>\n",
       "      <td>-0.017227</td>\n",
       "      <td>0.001016</td>\n",
       "      <td>-0.014608</td>\n",
       "      <td>0.000640</td>\n",
       "      <td>-0.122797</td>\n",
       "      <td>0.022367</td>\n",
       "      <td>0.070614</td>\n",
       "      <td>1.000000</td>\n",
       "      <td>0.132967</td>\n",
       "      <td>0.285103</td>\n",
       "      <td>0.657587</td>\n",
       "      <td>0.033171</td>\n",
       "    </tr>\n",
       "    <tr>\n",
       "      <th>Healthcare_1</th>\n",
       "      <td>0.307696</td>\n",
       "      <td>0.036978</td>\n",
       "      <td>-0.046132</td>\n",
       "      <td>-0.034083</td>\n",
       "      <td>0.011231</td>\n",
       "      <td>-0.131583</td>\n",
       "      <td>-0.149781</td>\n",
       "      <td>-0.009705</td>\n",
       "      <td>-0.036873</td>\n",
       "      <td>0.066335</td>\n",
       "      <td>0.039342</td>\n",
       "      <td>0.132967</td>\n",
       "      <td>1.000000</td>\n",
       "      <td>0.198686</td>\n",
       "      <td>0.064483</td>\n",
       "      <td>0.065592</td>\n",
       "    </tr>\n",
       "    <tr>\n",
       "      <th>Helthcare_2</th>\n",
       "      <td>0.296534</td>\n",
       "      <td>0.052050</td>\n",
       "      <td>-0.036891</td>\n",
       "      <td>-0.025998</td>\n",
       "      <td>0.044913</td>\n",
       "      <td>-0.059731</td>\n",
       "      <td>-0.072358</td>\n",
       "      <td>0.009205</td>\n",
       "      <td>0.028627</td>\n",
       "      <td>0.522179</td>\n",
       "      <td>0.471050</td>\n",
       "      <td>0.285103</td>\n",
       "      <td>0.198686</td>\n",
       "      <td>1.000000</td>\n",
       "      <td>0.471174</td>\n",
       "      <td>0.124516</td>\n",
       "    </tr>\n",
       "    <tr>\n",
       "      <th>Shops_1</th>\n",
       "      <td>0.168543</td>\n",
       "      <td>0.048053</td>\n",
       "      <td>0.011542</td>\n",
       "      <td>-0.007327</td>\n",
       "      <td>0.012194</td>\n",
       "      <td>0.030623</td>\n",
       "      <td>0.023358</td>\n",
       "      <td>0.003005</td>\n",
       "      <td>-0.076433</td>\n",
       "      <td>0.527161</td>\n",
       "      <td>0.559477</td>\n",
       "      <td>0.657587</td>\n",
       "      <td>0.064483</td>\n",
       "      <td>0.471174</td>\n",
       "      <td>1.000000</td>\n",
       "      <td>0.087974</td>\n",
       "    </tr>\n",
       "    <tr>\n",
       "      <th>Price</th>\n",
       "      <td>0.121846</td>\n",
       "      <td>0.261180</td>\n",
       "      <td>0.260489</td>\n",
       "      <td>0.053203</td>\n",
       "      <td>0.021485</td>\n",
       "      <td>0.054690</td>\n",
       "      <td>0.043730</td>\n",
       "      <td>0.007204</td>\n",
       "      <td>-0.031755</td>\n",
       "      <td>0.123805</td>\n",
       "      <td>0.111976</td>\n",
       "      <td>0.033171</td>\n",
       "      <td>0.065592</td>\n",
       "      <td>0.124516</td>\n",
       "      <td>0.087974</td>\n",
       "      <td>1.000000</td>\n",
       "    </tr>\n",
       "  </tbody>\n",
       "</table>\n",
       "</div>"
      ],
      "text/plain": [
       "               DistrictId     Rooms    Square  LifeSquare  KitchenSquare  \\\n",
       "DistrictId       1.000000  0.063861 -0.030043   -0.021397       0.042293   \n",
       "Rooms            0.063861  1.000000  0.685344    0.152914       0.011596   \n",
       "Square          -0.030043  0.685344  1.000000    0.218687       0.012461   \n",
       "LifeSquare      -0.021397  0.152914  0.218687    1.000000      -0.000882   \n",
       "KitchenSquare    0.042293  0.011596  0.012461   -0.000882       1.000000   \n",
       "Floor           -0.123774 -0.008179  0.113981    0.027075      -0.010622   \n",
       "HouseFloor      -0.150007 -0.022225  0.098070    0.032258       0.010683   \n",
       "HouseYear        0.010853 -0.008731 -0.007613   -0.002140       0.000965   \n",
       "Ecology_1        0.070427 -0.025705 -0.061655   -0.023770      -0.003893   \n",
       "Social_1         0.238062  0.074193 -0.075502   -0.049769       0.052472   \n",
       "Social_2         0.160131  0.070390 -0.045846   -0.039856       0.046534   \n",
       "Social_3         0.134509  0.006296  0.025319    0.013081      -0.017227   \n",
       "Healthcare_1     0.307696  0.036978 -0.046132   -0.034083       0.011231   \n",
       "Helthcare_2      0.296534  0.052050 -0.036891   -0.025998       0.044913   \n",
       "Shops_1          0.168543  0.048053  0.011542   -0.007327       0.012194   \n",
       "Price            0.121846  0.261180  0.260489    0.053203       0.021485   \n",
       "\n",
       "                  Floor  HouseFloor  HouseYear  Ecology_1  Social_1  Social_2  \\\n",
       "DistrictId    -0.123774   -0.150007   0.010853   0.070427  0.238062  0.160131   \n",
       "Rooms         -0.008179   -0.022225  -0.008731  -0.025705  0.074193  0.070390   \n",
       "Square         0.113981    0.098070  -0.007613  -0.061655 -0.075502 -0.045846   \n",
       "LifeSquare     0.027075    0.032258  -0.002140  -0.023770 -0.049769 -0.039856   \n",
       "KitchenSquare -0.010622    0.010683   0.000965  -0.003893  0.052472  0.046534   \n",
       "Floor          1.000000    0.434156   0.000703  -0.020034 -0.043501 -0.012720   \n",
       "HouseFloor     0.434156    1.000000  -0.000686  -0.015168 -0.025846  0.003794   \n",
       "HouseYear      0.000703   -0.000686   1.000000   0.001166  0.002430  0.001569   \n",
       "Ecology_1     -0.020034   -0.015168   0.001166   1.000000  0.023236  0.006529   \n",
       "Social_1      -0.043501   -0.025846   0.002430   0.023236  1.000000  0.955933   \n",
       "Social_2      -0.012720    0.003794   0.001569   0.006529  0.955933  1.000000   \n",
       "Social_3       0.001016   -0.014608   0.000640  -0.122797  0.022367  0.070614   \n",
       "Healthcare_1  -0.131583   -0.149781  -0.009705  -0.036873  0.066335  0.039342   \n",
       "Helthcare_2   -0.059731   -0.072358   0.009205   0.028627  0.522179  0.471050   \n",
       "Shops_1        0.030623    0.023358   0.003005  -0.076433  0.527161  0.559477   \n",
       "Price          0.054690    0.043730   0.007204  -0.031755  0.123805  0.111976   \n",
       "\n",
       "               Social_3  Healthcare_1  Helthcare_2   Shops_1     Price  \n",
       "DistrictId     0.134509      0.307696     0.296534  0.168543  0.121846  \n",
       "Rooms          0.006296      0.036978     0.052050  0.048053  0.261180  \n",
       "Square         0.025319     -0.046132    -0.036891  0.011542  0.260489  \n",
       "LifeSquare     0.013081     -0.034083    -0.025998 -0.007327  0.053203  \n",
       "KitchenSquare -0.017227      0.011231     0.044913  0.012194  0.021485  \n",
       "Floor          0.001016     -0.131583    -0.059731  0.030623  0.054690  \n",
       "HouseFloor    -0.014608     -0.149781    -0.072358  0.023358  0.043730  \n",
       "HouseYear      0.000640     -0.009705     0.009205  0.003005  0.007204  \n",
       "Ecology_1     -0.122797     -0.036873     0.028627 -0.076433 -0.031755  \n",
       "Social_1       0.022367      0.066335     0.522179  0.527161  0.123805  \n",
       "Social_2       0.070614      0.039342     0.471050  0.559477  0.111976  \n",
       "Social_3       1.000000      0.132967     0.285103  0.657587  0.033171  \n",
       "Healthcare_1   0.132967      1.000000     0.198686  0.064483  0.065592  \n",
       "Helthcare_2    0.285103      0.198686     1.000000  0.471174  0.124516  \n",
       "Shops_1        0.657587      0.064483     0.471174  1.000000  0.087974  \n",
       "Price          0.033171      0.065592     0.124516  0.087974  1.000000  "
      ]
     },
     "execution_count": 20,
     "metadata": {},
     "output_type": "execute_result"
    }
   ],
   "source": [
    "df_non_binary_features.corr()"
   ]
  },
  {
   "cell_type": "code",
   "execution_count": 21,
   "metadata": {},
   "outputs": [],
   "source": [
    "# Обработка выбросов"
   ]
  },
  {
   "cell_type": "code",
   "execution_count": 22,
   "metadata": {},
   "outputs": [],
   "source": [
    "# Rooms"
   ]
  },
  {
   "cell_type": "code",
   "execution_count": 23,
   "metadata": {},
   "outputs": [
    {
     "data": {
      "text/plain": [
       "2.0     5910\n",
       "1.0     5474\n",
       "3.0     3334\n",
       "4.0      240\n",
       "5.0       25\n",
       "0.0       10\n",
       "6.0        3\n",
       "10.0       2\n",
       "19.0       1\n",
       "17.0       1\n",
       "Name: Rooms, dtype: int64"
      ]
     },
     "execution_count": 23,
     "metadata": {},
     "output_type": "execute_result"
    }
   ],
   "source": [
    "df['Rooms'].value_counts()"
   ]
  },
  {
   "cell_type": "code",
   "execution_count": 24,
   "metadata": {},
   "outputs": [
    {
     "data": {
      "text/plain": [
       "array([ 0.,  1.,  2.,  3.,  4.,  5.,  6., 10., 17., 19.], dtype=float32)"
      ]
     },
     "execution_count": 24,
     "metadata": {},
     "output_type": "execute_result"
    }
   ],
   "source": [
    "df['Rooms'].sort_values().unique()"
   ]
  },
  {
   "cell_type": "code",
   "execution_count": 25,
   "metadata": {},
   "outputs": [
    {
     "data": {
      "text/plain": [
       "2.0    5917\n",
       "1.0    5484\n",
       "3.0    3334\n",
       "4.0     240\n",
       "5.0      25\n",
       "Name: Rooms, dtype: int64"
      ]
     },
     "execution_count": 25,
     "metadata": {},
     "output_type": "execute_result"
    }
   ],
   "source": [
    "rooms_median = df['Rooms'].median()\n",
    "df.loc[df['Rooms'] == 0, 'Rooms'] = 1\n",
    "df.loc[df['Rooms'] >= 6, 'Rooms'] = rooms_median\n",
    "df['Rooms'].value_counts(0)"
   ]
  },
  {
   "cell_type": "code",
   "execution_count": 26,
   "metadata": {},
   "outputs": [],
   "source": [
    "# KitchenSquare"
   ]
  },
  {
   "cell_type": "code",
   "execution_count": 27,
   "metadata": {},
   "outputs": [
    {
     "data": {
      "text/plain": [
       "1.0     3651\n",
       "8.0     1912\n",
       "5.0     1781\n",
       "6.0     1633\n",
       "10.0    1633\n",
       "        ... \n",
       "29.0       1\n",
       "23.0       1\n",
       "61.0       1\n",
       "54.0       1\n",
       "73.0       1\n",
       "Name: KitchenSquare, Length: 67, dtype: int64"
      ]
     },
     "execution_count": 27,
     "metadata": {},
     "output_type": "execute_result"
    }
   ],
   "source": [
    "df['KitchenSquare'].value_counts(0)"
   ]
  },
  {
   "cell_type": "code",
   "execution_count": 28,
   "metadata": {},
   "outputs": [
    {
     "data": {
      "text/plain": [
       "array([  6. ,   6.1,   6.2,   6.3,   6.5,   6.6,   7. ,   7.2,   7.3,\n",
       "         7.5,   7.8,   8. ,   8.4,   9. ,   9.6,   9.7,  10. ,  11. ,\n",
       "        11.2,  12. ,  12.3,  13. ,  14. ,  15. ,  16. ,  17. ,  18. ,\n",
       "        19. ,  20. ,  21. ,  22. ,  23. ,  24. ,  25. ,  26. ,  27. ,\n",
       "        29. ,  30. ,  31. ,  32. ,  33. ,  34. ,  35. ,  36. ,  37. ,\n",
       "        39. ,  40. ,  41. ,  42. ,  43. ,  44. ,  48. ,  51. ,  53. ,\n",
       "        54. ,  57. ,  58. ,  60. ,  62. , 197. , 201.4], dtype=float32)"
      ]
     },
     "execution_count": 28,
     "metadata": {},
     "output_type": "execute_result"
    }
   ],
   "source": [
    "df.loc[df['KitchenSquare'] < 6, 'KitchenSquare'] = 6\n",
    "df.loc[df['KitchenSquare'] > 60, 'KitchenSquare'] = df.loc[df['KitchenSquare'] > 60, 'KitchenSquare'] / 10\n",
    "df['KitchenSquare'].sort_values().unique()"
   ]
  },
  {
   "cell_type": "code",
   "execution_count": 29,
   "metadata": {},
   "outputs": [
    {
     "data": {
      "text/plain": [
       "array([ 6. ,  6.1,  6.2,  6.3,  6.5,  6.6,  7. ,  7.2,  7.3,  7.5,  7.8,\n",
       "        8. ,  8.4,  9. ,  9.6,  9.7, 10. , 11. , 11.2, 12. , 12.3, 13. ,\n",
       "       14. , 15. , 16. , 17. , 18. , 19. , 20. , 21. , 22. , 23. , 24. ],\n",
       "      dtype=float32)"
      ]
     },
     "execution_count": 29,
     "metadata": {},
     "output_type": "execute_result"
    }
   ],
   "source": [
    "kitchensquare_median = df['KitchenSquare'].median()\n",
    "df.loc[df['KitchenSquare'] >= 25, 'KitchenSquare'] = kitchensquare_median\n",
    "df['KitchenSquare'].sort_values().unique()"
   ]
  },
  {
   "cell_type": "code",
   "execution_count": 30,
   "metadata": {},
   "outputs": [],
   "source": [
    " # LifeSquare"
   ]
  },
  {
   "cell_type": "code",
   "execution_count": 31,
   "metadata": {},
   "outputs": [
    {
     "data": {
      "text/plain": [
       "array([3.3348995e-01, 3.7061942e-01, 5.6726700e-01, ..., 6.3816321e+02,\n",
       "       7.4805923e+03,           nan], dtype=float32)"
      ]
     },
     "execution_count": 31,
     "metadata": {},
     "output_type": "execute_result"
    }
   ],
   "source": [
    "df['LifeSquare'].sort_values().unique()"
   ]
  },
  {
   "cell_type": "code",
   "execution_count": 32,
   "metadata": {},
   "outputs": [
    {
     "data": {
      "text/plain": [
       "20.844322    2\n",
       "33.859653    2\n",
       "23.891237    2\n",
       "35.999996    1\n",
       "30.667973    1\n",
       "            ..\n",
       "21.646847    1\n",
       "2.912992     1\n",
       "79.337334    1\n",
       "18.334301    1\n",
       "20.906406    1\n",
       "Name: LifeSquare, Length: 11843, dtype: int64"
      ]
     },
     "execution_count": 32,
     "metadata": {},
     "output_type": "execute_result"
    }
   ],
   "source": [
    "df['LifeSquare'].value_counts(0)"
   ]
  },
  {
   "cell_type": "code",
   "execution_count": 33,
   "metadata": {},
   "outputs": [
    {
     "data": {
      "text/plain": [
       "1.9"
      ]
     },
     "execution_count": 33,
     "metadata": {},
     "output_type": "execute_result"
    }
   ],
   "source": [
    "#Находим коэфф, во сколько раз Square больше LifeSquare с учетом СНиП 31-01-2003 (с Изменениями)\n",
    "coef_SLS = 38/(6 + 14)\n",
    "coef_SLS"
   ]
  },
  {
   "cell_type": "code",
   "execution_count": 34,
   "metadata": {},
   "outputs": [
    {
     "data": {
      "text/plain": [
       "array([6.3363087e-01, 7.0417684e-01, 1.0778073e+00, ..., 6.3816321e+02,\n",
       "       7.4805923e+03,           nan], dtype=float32)"
      ]
     },
     "execution_count": 34,
     "metadata": {},
     "output_type": "execute_result"
    }
   ],
   "source": [
    "# Заменяем  значения с учетом коэффициента coef_SLS\n",
    "df.loc[df['LifeSquare'] < 20, 'LifeSquare'] = df.loc[df['LifeSquare'] < 20, 'LifeSquare']/(1/coef_SLS)\n",
    "df['LifeSquare'].sort_values().unique()"
   ]
  },
  {
   "cell_type": "code",
   "execution_count": 35,
   "metadata": {},
   "outputs": [
    {
     "data": {
      "text/plain": [
       "array([ 20.001862,  20.00341 ,  20.004328, ..., 174.83708 , 748.0592  ,\n",
       "              nan], dtype=float32)"
      ]
     },
     "execution_count": 35,
     "metadata": {},
     "output_type": "execute_result"
    }
   ],
   "source": [
    "lifesquare_median = df['LifeSquare'].median()\n",
    "df.loc[df['LifeSquare'] < 20, 'LifeSquare'] = lifesquare_median\n",
    "df.loc[df['LifeSquare'] > 200, 'LifeSquare'] = df.loc[df['LifeSquare'] > 200, 'LifeSquare'] / 10\n",
    "df['LifeSquare'].sort_values().unique()"
   ]
  },
  {
   "cell_type": "code",
   "execution_count": 36,
   "metadata": {},
   "outputs": [
    {
     "data": {
      "text/plain": [
       "array([ 20.001862,  20.00341 ,  20.004328, ..., 170.71365 , 174.83708 ,\n",
       "       748.0592  ], dtype=float32)"
      ]
     },
     "execution_count": 36,
     "metadata": {},
     "output_type": "execute_result"
    }
   ],
   "source": [
    "lifesquare_median = df['LifeSquare'].median()\n",
    "df['LifeSquare'] = df['LifeSquare'].fillna(lifesquare_median)\n",
    "df['LifeSquare'].sort_values().unique()"
   ]
  },
  {
   "cell_type": "code",
   "execution_count": 37,
   "metadata": {},
   "outputs": [
    {
     "data": {
      "text/plain": [
       "array([ 20.001862,  20.00341 ,  20.004328, ..., 169.9017  , 170.71365 ,\n",
       "       174.83708 ], dtype=float32)"
      ]
     },
     "execution_count": 37,
     "metadata": {},
     "output_type": "execute_result"
    }
   ],
   "source": [
    "df.loc[df['LifeSquare'] > 200, 'LifeSquare'] = df.loc[df['LifeSquare'] > 200, 'LifeSquare'] / 10\n",
    "df['LifeSquare'].sort_values().unique()"
   ]
  },
  {
   "cell_type": "code",
   "execution_count": 38,
   "metadata": {},
   "outputs": [],
   "source": [
    "# Square"
   ]
  },
  {
   "cell_type": "code",
   "execution_count": 39,
   "metadata": {},
   "outputs": [
    {
     "data": {
      "text/plain": [
       "array([  1.1368588,   1.3785427,   1.9757689, ..., 409.42517  ,\n",
       "       604.706    , 641.0652   ], dtype=float32)"
      ]
     },
     "execution_count": 39,
     "metadata": {},
     "output_type": "execute_result"
    }
   ],
   "source": [
    "df['Square'].sort_values().unique()"
   ]
  },
  {
   "cell_type": "code",
   "execution_count": 40,
   "metadata": {},
   "outputs": [
    {
     "data": {
      "text/plain": [
       "66.793839    2\n",
       "41.692863    2\n",
       "40.407391    2\n",
       "80.794792    2\n",
       "35.091915    2\n",
       "            ..\n",
       "78.663589    1\n",
       "44.652912    1\n",
       "80.072876    1\n",
       "39.389332    1\n",
       "44.000046    1\n",
       "Name: Square, Length: 14989, dtype: int64"
      ]
     },
     "execution_count": 40,
     "metadata": {},
     "output_type": "execute_result"
    }
   ],
   "source": [
    "df['Square'].value_counts(0)"
   ]
  },
  {
   "cell_type": "code",
   "execution_count": 41,
   "metadata": {},
   "outputs": [
    {
     "data": {
      "text/plain": [
       "6.333333333333333"
      ]
     },
     "execution_count": 41,
     "metadata": {},
     "output_type": "execute_result"
    }
   ],
   "source": [
    "#Находим коэфф, во сколько раз Square больше KitchenSquare с учетом СНиП 31-01-2003 (с Изменениями)\n",
    "coef_SKS = 38/6\n",
    "coef_SKS"
   ]
  },
  {
   "cell_type": "code",
   "execution_count": 42,
   "metadata": {},
   "outputs": [
    {
     "data": {
      "text/plain": [
       "array([  7.200106,   8.73077 ,  12.513204, ..., 409.42517 , 604.706   ,\n",
       "       641.0652  ], dtype=float32)"
      ]
     },
     "execution_count": 42,
     "metadata": {},
     "output_type": "execute_result"
    }
   ],
   "source": [
    "# Заменяем значения с учетом коэффициента coef_SKS\n",
    "df.loc[df['Square'] < 38, 'Square'] = df.loc[df['Square'] < 38, 'Square']/(1/coef_SKS)\n",
    "df['Square'].sort_values().unique()"
   ]
  },
  {
   "cell_type": "code",
   "execution_count": 44,
   "metadata": {},
   "outputs": [
    {
     "data": {
      "text/plain": [
       "array([  7.200106,   8.73077 ,  12.513204, ..., 199.91638 , 199.98738 ,\n",
       "       199.9976  ], dtype=float32)"
      ]
     },
     "execution_count": 44,
     "metadata": {},
     "output_type": "execute_result"
    }
   ],
   "source": [
    "df.loc[df['Square'] > 200, 'Square'] = df.loc[df['Square'] > 200, 'Square'] / 10\n",
    "df['Square'].sort_values().unique()"
   ]
  },
  {
   "cell_type": "code",
   "execution_count": 45,
   "metadata": {},
   "outputs": [
    {
     "data": {
      "text/plain": [
       "array([  7.200106,   8.73077 ,  12.513204, ..., 199.91638 , 199.98738 ,\n",
       "       199.9976  ], dtype=float32)"
      ]
     },
     "execution_count": 45,
     "metadata": {},
     "output_type": "execute_result"
    }
   ],
   "source": [
    "lifesquare_median = df['Square'].median()\n",
    "df['Square'] = df['Square'].fillna(lifesquare_median)\n",
    "df['Square'].sort_values().unique()"
   ]
  },
  {
   "cell_type": "code",
   "execution_count": 46,
   "metadata": {},
   "outputs": [],
   "source": [
    "# Floor, HouseFloor"
   ]
  },
  {
   "cell_type": "code",
   "execution_count": 47,
   "metadata": {},
   "outputs": [
    {
     "data": {
      "text/plain": [
       "array([  0.,   1.,   2.,   3.,   4.,   5.,   6.,   7.,   8.,   9.,  10.,\n",
       "        11.,  12.,  13.,  14.,  15.,  16.,  17.,  18.,  19.,  20.,  21.,\n",
       "        22.,  23.,  24.,  25.,  26.,  27.,  28.,  29.,  30.,  31.,  32.,\n",
       "        33.,  34.,  36.,  37.,  38.,  39.,  40.,  44.,  45.,  47.,  48.,\n",
       "        99., 117.], dtype=float32)"
      ]
     },
     "execution_count": 47,
     "metadata": {},
     "output_type": "execute_result"
    }
   ],
   "source": [
    "df['HouseFloor'].sort_values().unique()"
   ]
  },
  {
   "cell_type": "code",
   "execution_count": 48,
   "metadata": {},
   "outputs": [
    {
     "data": {
      "text/plain": [
       "array([ 1,  2,  3,  4,  5,  6,  7,  8,  9, 10, 11, 12, 13, 14, 15, 16, 17,\n",
       "       18, 19, 20, 21, 22, 23, 24, 25, 26, 27, 28, 31, 32, 33, 34, 37, 38,\n",
       "       42, 46, 78], dtype=uint8)"
      ]
     },
     "execution_count": 48,
     "metadata": {},
     "output_type": "execute_result"
    }
   ],
   "source": [
    "df['Floor'].sort_values().unique()"
   ]
  },
  {
   "cell_type": "code",
   "execution_count": 49,
   "metadata": {},
   "outputs": [],
   "source": [
    "housefloor_median = df['HouseFloor'].median()\n",
    "\n",
    "df['HouseFloor_outlier'] = 0\n",
    "df.loc[df['HouseFloor'] == 0, 'HouseFloor_outlier'] = 1\n",
    "df.loc[df['Floor'] > df['HouseFloor'], 'HouseFloor_outlier'] = 1\n",
    "\n",
    "      \n",
    "df.loc[df['HouseFloor'] == 0, 'HouseFloor'] = housefloor_median\n",
    "df.loc[df['Floor'] > df['HouseFloor'], 'Floor'] = df.loc[df['Floor'] > df['HouseFloor'], 'HouseFloor']"
   ]
  },
  {
   "cell_type": "code",
   "execution_count": 50,
   "metadata": {},
   "outputs": [
    {
     "data": {
      "text/plain": [
       "array([  1.,   2.,   3.,   4.,   5.,   6.,   7.,   8.,   9.,  10.,  11.,\n",
       "        12.,  13.,  14.,  15.,  16.,  17.,  18.,  19.,  20.,  21.,  22.,\n",
       "        23.,  24.,  25.,  26.,  27.,  28.,  29.,  30.,  31.,  32.,  33.,\n",
       "        34.,  36.,  37.,  38.,  39.,  40.,  44.,  45.,  47.,  48.,  99.,\n",
       "       117.], dtype=float32)"
      ]
     },
     "execution_count": 50,
     "metadata": {},
     "output_type": "execute_result"
    }
   ],
   "source": [
    "df['HouseFloor'].sort_values().unique()"
   ]
  },
  {
   "cell_type": "code",
   "execution_count": 51,
   "metadata": {},
   "outputs": [
    {
     "data": {
      "text/plain": [
       "array([ 1.,  2.,  3.,  4.,  5.,  6.,  7.,  8.,  9., 10., 11., 12., 13.,\n",
       "       14., 15., 16., 17., 18., 19., 20., 21., 22., 23., 24., 25., 26.,\n",
       "       28., 31., 32., 33., 34., 37., 38., 42., 46.], dtype=float32)"
      ]
     },
     "execution_count": 51,
     "metadata": {},
     "output_type": "execute_result"
    }
   ],
   "source": [
    "df['Floor'].sort_values().unique()"
   ]
  },
  {
   "cell_type": "code",
   "execution_count": 52,
   "metadata": {},
   "outputs": [],
   "source": [
    "# HouseYear"
   ]
  },
  {
   "cell_type": "code",
   "execution_count": 53,
   "metadata": {},
   "outputs": [
    {
     "data": {
      "text/plain": [
       "array([    1908,     1909,     1910,     1911,     1912,     1914,\n",
       "           1916,     1917,     1918,     1919,     1920,     1926,\n",
       "           1927,     1928,     1929,     1930,     1931,     1932,\n",
       "           1933,     1934,     1935,     1936,     1937,     1938,\n",
       "           1939,     1940,     1941,     1942,     1943,     1947,\n",
       "           1948,     1949,     1950,     1951,     1952,     1953,\n",
       "           1954,     1955,     1956,     1957,     1958,     1959,\n",
       "           1960,     1961,     1962,     1963,     1964,     1965,\n",
       "           1966,     1967,     1968,     1969,     1970,     1971,\n",
       "           1972,     1973,     1974,     1975,     1976,     1977,\n",
       "           1978,     1979,     1980,     1981,     1982,     1983,\n",
       "           1984,     1985,     1986,     1987,     1988,     1989,\n",
       "           1990,     1991,     1992,     1993,     1994,     1995,\n",
       "           1996,     1997,     1998,     1999,     2000,     2001,\n",
       "           2002,     2003,     2004,     2005,     2006,     2007,\n",
       "           2008,     2009,     2010,     2011,     2012,     2013,\n",
       "           2014,     2015,     2016,     2017,     2018,     2019,\n",
       "           2020,     4968, 20052011], dtype=uint32)"
      ]
     },
     "execution_count": 53,
     "metadata": {},
     "output_type": "execute_result"
    }
   ],
   "source": [
    "df['HouseYear'].sort_values().unique()"
   ]
  },
  {
   "cell_type": "code",
   "execution_count": 54,
   "metadata": {},
   "outputs": [
    {
     "data": {
      "text/plain": [
       "array([1908, 1909, 1910, 1911, 1912, 1914, 1916, 1917, 1918, 1919, 1920,\n",
       "       1926, 1927, 1928, 1929, 1930, 1931, 1932, 1933, 1934, 1935, 1936,\n",
       "       1937, 1938, 1939, 1940, 1941, 1942, 1943, 1947, 1948, 1949, 1950,\n",
       "       1951, 1952, 1953, 1954, 1955, 1956, 1957, 1958, 1959, 1960, 1961,\n",
       "       1962, 1963, 1964, 1965, 1966, 1967, 1968, 1969, 1970, 1971, 1972,\n",
       "       1973, 1974, 1975, 1976, 1977, 1978, 1979, 1980, 1981, 1982, 1983,\n",
       "       1984, 1985, 1986, 1987, 1988, 1989, 1990, 1991, 1992, 1993, 1994,\n",
       "       1995, 1996, 1997, 1998, 1999, 2000, 2001, 2002, 2003, 2004, 2005,\n",
       "       2006, 2007, 2008, 2009, 2010, 2011, 2012, 2013, 2014, 2015, 2016,\n",
       "       2017, 2018, 2019, 2020, 2021], dtype=uint32)"
      ]
     },
     "execution_count": 54,
     "metadata": {},
     "output_type": "execute_result"
    }
   ],
   "source": [
    "current_year = 2021    \n",
    "df['HouseYear_outlier'] = 0\n",
    "df.loc[df['HouseYear'] > 2021, 'HouseYear_outlier'] = 1       \n",
    "df.loc[df['HouseYear'] > current_year, 'HouseYear'] = current_year\n",
    "\n",
    "df['HouseYear'].sort_values().unique()"
   ]
  },
  {
   "cell_type": "code",
   "execution_count": 55,
   "metadata": {},
   "outputs": [],
   "source": [
    "# HealthCare"
   ]
  },
  {
   "cell_type": "code",
   "execution_count": 56,
   "metadata": {},
   "outputs": [],
   "source": [
    "healthcare_1_for_predict = df.loc[df['Healthcare_1'].isnull(), ['DistrictId', 'Social_1', 'Social_2', 'Social_3', 'Helthcare_2']]\n",
    "healthcare_1_X = df.loc[df['Healthcare_1'].notnull(), ['DistrictId', 'Social_1', 'Social_2', 'Social_3', 'Helthcare_2']]\n",
    "healthcare_1_y = np.ravel(df.loc[df['Healthcare_1'].notnull(), ['Healthcare_1']])"
   ]
  },
  {
   "cell_type": "code",
   "execution_count": 57,
   "metadata": {},
   "outputs": [
    {
     "name": "stdout",
     "output_type": "stream",
     "text": [
      "1.0\n"
     ]
    }
   ],
   "source": [
    "X_train, X_test, y_train, y_test = train_test_split(healthcare_1_X, healthcare_1_y, test_size=0.3, random_state=151)\n",
    "rfc = RandomForestClassifier(max_depth=14, n_estimators=200)\n",
    "rfc.fit(X_train, y_train)\n",
    "y_pred = rfc.predict(X_test)\n",
    "print(accuracy_score(y_test, y_pred))\n",
    "rfc.fit(healthcare_1_X, healthcare_1_y)\n",
    "healthcare_1_pred = rfc.predict(healthcare_1_for_predict)\n",
    "df.loc[df['Healthcare_1'].isnull(), ['Healthcare_1']] = healthcare_1_pred"
   ]
  },
  {
   "cell_type": "code",
   "execution_count": 58,
   "metadata": {},
   "outputs": [
    {
     "data": {
      "text/plain": [
       "Id                    0\n",
       "DistrictId            0\n",
       "Rooms                 0\n",
       "Square                0\n",
       "LifeSquare            0\n",
       "KitchenSquare         0\n",
       "Floor                 0\n",
       "HouseFloor            0\n",
       "HouseYear             0\n",
       "Ecology_1             0\n",
       "Ecology_2             0\n",
       "Ecology_3             0\n",
       "Social_1              0\n",
       "Social_2              0\n",
       "Social_3              0\n",
       "Healthcare_1          0\n",
       "Helthcare_2           0\n",
       "Shops_1               0\n",
       "Shops_2               0\n",
       "Price                 0\n",
       "HouseFloor_outlier    0\n",
       "HouseYear_outlier     0\n",
       "dtype: int64"
      ]
     },
     "execution_count": 58,
     "metadata": {},
     "output_type": "execute_result"
    }
   ],
   "source": [
    "df.isnull().sum()"
   ]
  },
  {
   "cell_type": "code",
   "execution_count": 59,
   "metadata": {},
   "outputs": [],
   "source": [
    "# Отбор признаков"
   ]
  },
  {
   "cell_type": "code",
   "execution_count": 60,
   "metadata": {},
   "outputs": [],
   "source": [
    "feature_names = ['DistrictId',\n",
    " 'Rooms',\n",
    " 'Square',\n",
    " 'LifeSquare',\n",
    " 'KitchenSquare',\n",
    " 'Floor',\n",
    " 'HouseFloor',\n",
    " 'HouseYear',\n",
    " 'Ecology_1',\n",
    " 'Ecology_2',\n",
    " 'Ecology_3',\n",
    " 'Social_1',\n",
    " 'Social_2',\n",
    " 'Social_3',\n",
    " 'Healthcare_1',\n",
    " 'Helthcare_2',\n",
    " 'Shops_1',\n",
    " 'Shops_2']\n",
    "target_name = ['Price']\n",
    "id_stat = ['Id']"
   ]
  },
  {
   "cell_type": "code",
   "execution_count": 61,
   "metadata": {},
   "outputs": [
    {
     "data": {
      "text/html": [
       "<div>\n",
       "<style scoped>\n",
       "    .dataframe tbody tr th:only-of-type {\n",
       "        vertical-align: middle;\n",
       "    }\n",
       "\n",
       "    .dataframe tbody tr th {\n",
       "        vertical-align: top;\n",
       "    }\n",
       "\n",
       "    .dataframe thead th {\n",
       "        text-align: right;\n",
       "    }\n",
       "</style>\n",
       "<table border=\"1\" class=\"dataframe\">\n",
       "  <thead>\n",
       "    <tr style=\"text-align: right;\">\n",
       "      <th></th>\n",
       "      <th>Id</th>\n",
       "      <th>DistrictId</th>\n",
       "      <th>Rooms</th>\n",
       "      <th>Square</th>\n",
       "      <th>LifeSquare</th>\n",
       "      <th>KitchenSquare</th>\n",
       "      <th>Floor</th>\n",
       "      <th>HouseFloor</th>\n",
       "      <th>HouseYear</th>\n",
       "      <th>Ecology_1</th>\n",
       "      <th>Ecology_2</th>\n",
       "      <th>Ecology_3</th>\n",
       "      <th>Social_1</th>\n",
       "      <th>Social_2</th>\n",
       "      <th>Social_3</th>\n",
       "      <th>Healthcare_1</th>\n",
       "      <th>Helthcare_2</th>\n",
       "      <th>Shops_1</th>\n",
       "      <th>Shops_2</th>\n",
       "      <th>Price</th>\n",
       "    </tr>\n",
       "  </thead>\n",
       "  <tbody>\n",
       "    <tr>\n",
       "      <th>0</th>\n",
       "      <td>14038</td>\n",
       "      <td>35</td>\n",
       "      <td>2.0</td>\n",
       "      <td>47.981560</td>\n",
       "      <td>29.442751</td>\n",
       "      <td>6.0</td>\n",
       "      <td>7.0</td>\n",
       "      <td>9.0</td>\n",
       "      <td>1969</td>\n",
       "      <td>0.089040</td>\n",
       "      <td>1</td>\n",
       "      <td>1</td>\n",
       "      <td>33</td>\n",
       "      <td>7976</td>\n",
       "      <td>5</td>\n",
       "      <td>990.0</td>\n",
       "      <td>0</td>\n",
       "      <td>11</td>\n",
       "      <td>1</td>\n",
       "      <td>184966.937500</td>\n",
       "    </tr>\n",
       "    <tr>\n",
       "      <th>1</th>\n",
       "      <td>15053</td>\n",
       "      <td>41</td>\n",
       "      <td>3.0</td>\n",
       "      <td>65.683640</td>\n",
       "      <td>40.049541</td>\n",
       "      <td>8.0</td>\n",
       "      <td>7.0</td>\n",
       "      <td>9.0</td>\n",
       "      <td>1978</td>\n",
       "      <td>0.000070</td>\n",
       "      <td>1</td>\n",
       "      <td>1</td>\n",
       "      <td>46</td>\n",
       "      <td>10309</td>\n",
       "      <td>1</td>\n",
       "      <td>240.0</td>\n",
       "      <td>1</td>\n",
       "      <td>16</td>\n",
       "      <td>1</td>\n",
       "      <td>300009.437500</td>\n",
       "    </tr>\n",
       "    <tr>\n",
       "      <th>2</th>\n",
       "      <td>4765</td>\n",
       "      <td>53</td>\n",
       "      <td>2.0</td>\n",
       "      <td>44.947952</td>\n",
       "      <td>29.197611</td>\n",
       "      <td>6.0</td>\n",
       "      <td>8.0</td>\n",
       "      <td>12.0</td>\n",
       "      <td>1968</td>\n",
       "      <td>0.049637</td>\n",
       "      <td>1</td>\n",
       "      <td>1</td>\n",
       "      <td>34</td>\n",
       "      <td>7759</td>\n",
       "      <td>0</td>\n",
       "      <td>229.0</td>\n",
       "      <td>1</td>\n",
       "      <td>3</td>\n",
       "      <td>1</td>\n",
       "      <td>220925.906250</td>\n",
       "    </tr>\n",
       "    <tr>\n",
       "      <th>3</th>\n",
       "      <td>5809</td>\n",
       "      <td>58</td>\n",
       "      <td>2.0</td>\n",
       "      <td>53.352982</td>\n",
       "      <td>52.731510</td>\n",
       "      <td>9.0</td>\n",
       "      <td>8.0</td>\n",
       "      <td>17.0</td>\n",
       "      <td>1977</td>\n",
       "      <td>0.437885</td>\n",
       "      <td>1</td>\n",
       "      <td>1</td>\n",
       "      <td>23</td>\n",
       "      <td>5735</td>\n",
       "      <td>3</td>\n",
       "      <td>1084.0</td>\n",
       "      <td>0</td>\n",
       "      <td>5</td>\n",
       "      <td>1</td>\n",
       "      <td>175616.234375</td>\n",
       "    </tr>\n",
       "    <tr>\n",
       "      <th>4</th>\n",
       "      <td>10783</td>\n",
       "      <td>99</td>\n",
       "      <td>1.0</td>\n",
       "      <td>39.649193</td>\n",
       "      <td>23.776169</td>\n",
       "      <td>7.0</td>\n",
       "      <td>11.0</td>\n",
       "      <td>12.0</td>\n",
       "      <td>1976</td>\n",
       "      <td>0.012339</td>\n",
       "      <td>1</td>\n",
       "      <td>1</td>\n",
       "      <td>35</td>\n",
       "      <td>5776</td>\n",
       "      <td>1</td>\n",
       "      <td>2078.0</td>\n",
       "      <td>2</td>\n",
       "      <td>4</td>\n",
       "      <td>1</td>\n",
       "      <td>150226.531250</td>\n",
       "    </tr>\n",
       "  </tbody>\n",
       "</table>\n",
       "</div>"
      ],
      "text/plain": [
       "      Id  DistrictId  Rooms     Square  LifeSquare  KitchenSquare  Floor  \\\n",
       "0  14038          35    2.0  47.981560   29.442751            6.0    7.0   \n",
       "1  15053          41    3.0  65.683640   40.049541            8.0    7.0   \n",
       "2   4765          53    2.0  44.947952   29.197611            6.0    8.0   \n",
       "3   5809          58    2.0  53.352982   52.731510            9.0    8.0   \n",
       "4  10783          99    1.0  39.649193   23.776169            7.0   11.0   \n",
       "\n",
       "   HouseFloor  HouseYear  Ecology_1  Ecology_2  Ecology_3  Social_1  Social_2  \\\n",
       "0         9.0       1969   0.089040          1          1        33      7976   \n",
       "1         9.0       1978   0.000070          1          1        46     10309   \n",
       "2        12.0       1968   0.049637          1          1        34      7759   \n",
       "3        17.0       1977   0.437885          1          1        23      5735   \n",
       "4        12.0       1976   0.012339          1          1        35      5776   \n",
       "\n",
       "   Social_3  Healthcare_1  Helthcare_2  Shops_1  Shops_2          Price  \n",
       "0         5         990.0            0       11        1  184966.937500  \n",
       "1         1         240.0            1       16        1  300009.437500  \n",
       "2         0         229.0            1        3        1  220925.906250  \n",
       "3         3        1084.0            0        5        1  175616.234375  \n",
       "4         1        2078.0            2        4        1  150226.531250  "
      ]
     },
     "execution_count": 61,
     "metadata": {},
     "output_type": "execute_result"
    }
   ],
   "source": [
    "df = df[id_stat + feature_names + target_name]\n",
    "df.head()"
   ]
  },
  {
   "cell_type": "code",
   "execution_count": 62,
   "metadata": {},
   "outputs": [],
   "source": [
    "# Разделяем df"
   ]
  },
  {
   "cell_type": "code",
   "execution_count": 63,
   "metadata": {},
   "outputs": [],
   "source": [
    "df_test = df.loc[df['Price'] == 0]\n",
    "df_train = df.loc[df['Price'] != 0]"
   ]
  },
  {
   "cell_type": "code",
   "execution_count": 64,
   "metadata": {},
   "outputs": [],
   "source": [
    "# Первая модель для определения важности признаков"
   ]
  },
  {
   "cell_type": "code",
   "execution_count": 67,
   "metadata": {},
   "outputs": [
    {
     "data": {
      "text/plain": [
       "0.7176972531123142"
      ]
     },
     "execution_count": 67,
     "metadata": {},
     "output_type": "execute_result"
    }
   ],
   "source": [
    "X_train, X_test, y_train, y_test = train_test_split(df_train[feature_names], df_train[target_name], test_size=0.2)\n",
    "rf_model_first = RandomForestRegressor(max_depth=16, n_estimators=800)\n",
    "rf_model_first.fit(X_train, np.ravel(y_train))\n",
    "y_test_preds = rf_model_first.predict(X_test)\n",
    "r2(y_test, y_test_preds)"
   ]
  },
  {
   "cell_type": "code",
   "execution_count": 68,
   "metadata": {},
   "outputs": [
    {
     "data": {
      "text/plain": [
       "[(0.3160569141689549, 'Rooms'),\n",
       " (0.172760212338928, 'Square'),\n",
       " (0.07337595424589556, 'Social_3'),\n",
       " (0.06850450025428771, 'Social_2'),\n",
       " (0.0504558704412115, 'Social_1'),\n",
       " (0.049324214630200515, 'DistrictId'),\n",
       " (0.041436823161066116, 'HouseYear'),\n",
       " (0.04111615475221654, 'Ecology_1'),\n",
       " (0.04075555296556857, 'KitchenSquare'),\n",
       " (0.04073249246280416, 'LifeSquare'),\n",
       " (0.028124643708391146, 'HouseFloor'),\n",
       " (0.026771050803905207, 'Healthcare_1'),\n",
       " (0.022445683671542392, 'Floor'),\n",
       " (0.017492261804264882, 'Shops_1'),\n",
       " (0.008408043502807681, 'Helthcare_2'),\n",
       " (0.000988563475445854, 'Shops_2'),\n",
       " (0.0008376809282674279, 'Ecology_3'),\n",
       " (0.0004133826842418503, 'Ecology_2')]"
      ]
     },
     "execution_count": 68,
     "metadata": {},
     "output_type": "execute_result"
    }
   ],
   "source": [
    "importance = list(zip(rf_model_first.feature_importances_, feature_names))\n",
    "sorted(importance, reverse=True)"
   ]
  },
  {
   "cell_type": "code",
   "execution_count": 69,
   "metadata": {},
   "outputs": [],
   "source": [
    "importance_features = ['Rooms', 'Square', 'Social_1', 'Social_2', 'KitchenSquare','Social_3', 'DistrictId', 'LifeSquare', 'Ecology_1',  'HouseYear', 'Healthcare_1', 'HouseFloor',  'Floor', 'Shops_1']"
   ]
  },
  {
   "cell_type": "code",
   "execution_count": 70,
   "metadata": {},
   "outputs": [],
   "source": [
    "# Делим датафрейм на тестовые и тренировочные данные"
   ]
  },
  {
   "cell_type": "code",
   "execution_count": 71,
   "metadata": {},
   "outputs": [],
   "source": [
    "X_train, X_test, y_train, y_test = train_test_split(df_train[importance_features], df_train['Price'], random_state = 151, test_size=0.3)"
   ]
  },
  {
   "cell_type": "code",
   "execution_count": 72,
   "metadata": {},
   "outputs": [
    {
     "name": "stdout",
     "output_type": "stream",
     "text": [
      " max_depth=16, n_estimators=300 r2_test: 0.7580665045843953\n"
     ]
    }
   ],
   "source": [
    "rf_model = RandomForestRegressor(max_depth=16, n_estimators=300, random_state = 65)\n",
    "rf_model.fit(X_train, np.ravel(y_train))\n",
    "y_test_preds = rf_model.predict(X_test)\n",
    "\n",
    "print(f' max_depth=16, n_estimators=300 r2_test: {r2(y_test, y_test_preds)}')"
   ]
  },
  {
   "cell_type": "code",
   "execution_count": 73,
   "metadata": {},
   "outputs": [
    {
     "data": {
      "text/plain": [
       "RandomForestRegressor(max_depth=16, n_estimators=300, random_state=65)"
      ]
     },
     "execution_count": 73,
     "metadata": {},
     "output_type": "execute_result"
    }
   ],
   "source": [
    "rf_model.fit(df_train[importance_features], df_train['Price'])"
   ]
  },
  {
   "cell_type": "code",
   "execution_count": 74,
   "metadata": {},
   "outputs": [
    {
     "data": {
      "text/plain": [
       "array([161512.94390408, 234582.24908089, 319719.50364642, ...,\n",
       "       326406.6231452 , 184895.10833318, 175180.81432314])"
      ]
     },
     "execution_count": 74,
     "metadata": {},
     "output_type": "execute_result"
    }
   ],
   "source": [
    "y_test_preds_res = rf_model.predict(df_test[importance_features])\n",
    "y_test_preds_res"
   ]
  },
  {
   "cell_type": "code",
   "execution_count": 75,
   "metadata": {},
   "outputs": [
    {
     "name": "stderr",
     "output_type": "stream",
     "text": [
      "<ipython-input-75-98892491d526>:1: SettingWithCopyWarning: \n",
      "A value is trying to be set on a copy of a slice from a DataFrame.\n",
      "Try using .loc[row_indexer,col_indexer] = value instead\n",
      "\n",
      "See the caveats in the documentation: https://pandas.pydata.org/pandas-docs/stable/user_guide/indexing.html#returning-a-view-versus-a-copy\n",
      "  df_test['Price'] = y_test_preds_res\n"
     ]
    },
    {
     "data": {
      "text/html": [
       "<div>\n",
       "<style scoped>\n",
       "    .dataframe tbody tr th:only-of-type {\n",
       "        vertical-align: middle;\n",
       "    }\n",
       "\n",
       "    .dataframe tbody tr th {\n",
       "        vertical-align: top;\n",
       "    }\n",
       "\n",
       "    .dataframe thead th {\n",
       "        text-align: right;\n",
       "    }\n",
       "</style>\n",
       "<table border=\"1\" class=\"dataframe\">\n",
       "  <thead>\n",
       "    <tr style=\"text-align: right;\">\n",
       "      <th></th>\n",
       "      <th>Id</th>\n",
       "      <th>DistrictId</th>\n",
       "      <th>Rooms</th>\n",
       "      <th>Square</th>\n",
       "      <th>LifeSquare</th>\n",
       "      <th>KitchenSquare</th>\n",
       "      <th>Floor</th>\n",
       "      <th>HouseFloor</th>\n",
       "      <th>HouseYear</th>\n",
       "      <th>Ecology_1</th>\n",
       "      <th>Ecology_2</th>\n",
       "      <th>Ecology_3</th>\n",
       "      <th>Social_1</th>\n",
       "      <th>Social_2</th>\n",
       "      <th>Social_3</th>\n",
       "      <th>Healthcare_1</th>\n",
       "      <th>Helthcare_2</th>\n",
       "      <th>Shops_1</th>\n",
       "      <th>Shops_2</th>\n",
       "      <th>Price</th>\n",
       "    </tr>\n",
       "  </thead>\n",
       "  <tbody>\n",
       "    <tr>\n",
       "      <th>0</th>\n",
       "      <td>725</td>\n",
       "      <td>58</td>\n",
       "      <td>2.0</td>\n",
       "      <td>49.882645</td>\n",
       "      <td>33.432781</td>\n",
       "      <td>6.0</td>\n",
       "      <td>6.0</td>\n",
       "      <td>14.0</td>\n",
       "      <td>1972</td>\n",
       "      <td>0.310199</td>\n",
       "      <td>1</td>\n",
       "      <td>1</td>\n",
       "      <td>11</td>\n",
       "      <td>2748</td>\n",
       "      <td>1</td>\n",
       "      <td>32.0</td>\n",
       "      <td>0</td>\n",
       "      <td>0</td>\n",
       "      <td>1</td>\n",
       "      <td>161512.943904</td>\n",
       "    </tr>\n",
       "    <tr>\n",
       "      <th>1</th>\n",
       "      <td>15856</td>\n",
       "      <td>74</td>\n",
       "      <td>2.0</td>\n",
       "      <td>69.263184</td>\n",
       "      <td>34.398117</td>\n",
       "      <td>6.0</td>\n",
       "      <td>1.0</td>\n",
       "      <td>1.0</td>\n",
       "      <td>1977</td>\n",
       "      <td>0.075779</td>\n",
       "      <td>1</td>\n",
       "      <td>1</td>\n",
       "      <td>6</td>\n",
       "      <td>1437</td>\n",
       "      <td>3</td>\n",
       "      <td>1084.0</td>\n",
       "      <td>0</td>\n",
       "      <td>2</td>\n",
       "      <td>1</td>\n",
       "      <td>234582.249081</td>\n",
       "    </tr>\n",
       "    <tr>\n",
       "      <th>2</th>\n",
       "      <td>5480</td>\n",
       "      <td>190</td>\n",
       "      <td>1.0</td>\n",
       "      <td>86.119522</td>\n",
       "      <td>30.301666</td>\n",
       "      <td>12.0</td>\n",
       "      <td>2.0</td>\n",
       "      <td>5.0</td>\n",
       "      <td>1909</td>\n",
       "      <td>0.000000</td>\n",
       "      <td>1</td>\n",
       "      <td>1</td>\n",
       "      <td>30</td>\n",
       "      <td>7538</td>\n",
       "      <td>87</td>\n",
       "      <td>4702.0</td>\n",
       "      <td>5</td>\n",
       "      <td>5</td>\n",
       "      <td>1</td>\n",
       "      <td>319719.503646</td>\n",
       "    </tr>\n",
       "    <tr>\n",
       "      <th>3</th>\n",
       "      <td>15664</td>\n",
       "      <td>47</td>\n",
       "      <td>2.0</td>\n",
       "      <td>73.046608</td>\n",
       "      <td>51.940842</td>\n",
       "      <td>9.0</td>\n",
       "      <td>22.0</td>\n",
       "      <td>22.0</td>\n",
       "      <td>2007</td>\n",
       "      <td>0.101872</td>\n",
       "      <td>1</td>\n",
       "      <td>1</td>\n",
       "      <td>23</td>\n",
       "      <td>4583</td>\n",
       "      <td>3</td>\n",
       "      <td>1084.0</td>\n",
       "      <td>3</td>\n",
       "      <td>3</td>\n",
       "      <td>1</td>\n",
       "      <td>346388.501854</td>\n",
       "    </tr>\n",
       "    <tr>\n",
       "      <th>4</th>\n",
       "      <td>14275</td>\n",
       "      <td>27</td>\n",
       "      <td>1.0</td>\n",
       "      <td>47.527111</td>\n",
       "      <td>43.387569</td>\n",
       "      <td>6.0</td>\n",
       "      <td>17.0</td>\n",
       "      <td>17.0</td>\n",
       "      <td>2017</td>\n",
       "      <td>0.072158</td>\n",
       "      <td>1</td>\n",
       "      <td>1</td>\n",
       "      <td>2</td>\n",
       "      <td>629</td>\n",
       "      <td>1</td>\n",
       "      <td>35.0</td>\n",
       "      <td>0</td>\n",
       "      <td>0</td>\n",
       "      <td>0</td>\n",
       "      <td>143832.927989</td>\n",
       "    </tr>\n",
       "    <tr>\n",
       "      <th>...</th>\n",
       "      <td>...</td>\n",
       "      <td>...</td>\n",
       "      <td>...</td>\n",
       "      <td>...</td>\n",
       "      <td>...</td>\n",
       "      <td>...</td>\n",
       "      <td>...</td>\n",
       "      <td>...</td>\n",
       "      <td>...</td>\n",
       "      <td>...</td>\n",
       "      <td>...</td>\n",
       "      <td>...</td>\n",
       "      <td>...</td>\n",
       "      <td>...</td>\n",
       "      <td>...</td>\n",
       "      <td>...</td>\n",
       "      <td>...</td>\n",
       "      <td>...</td>\n",
       "      <td>...</td>\n",
       "      <td>...</td>\n",
       "    </tr>\n",
       "    <tr>\n",
       "      <th>4995</th>\n",
       "      <td>8180</td>\n",
       "      <td>11</td>\n",
       "      <td>3.0</td>\n",
       "      <td>67.133911</td>\n",
       "      <td>50.809795</td>\n",
       "      <td>6.0</td>\n",
       "      <td>5.0</td>\n",
       "      <td>9.0</td>\n",
       "      <td>1973</td>\n",
       "      <td>0.000170</td>\n",
       "      <td>1</td>\n",
       "      <td>1</td>\n",
       "      <td>36</td>\n",
       "      <td>5992</td>\n",
       "      <td>0</td>\n",
       "      <td>1183.0</td>\n",
       "      <td>1</td>\n",
       "      <td>1</td>\n",
       "      <td>1</td>\n",
       "      <td>245878.402799</td>\n",
       "    </tr>\n",
       "    <tr>\n",
       "      <th>4996</th>\n",
       "      <td>4695</td>\n",
       "      <td>1</td>\n",
       "      <td>1.0</td>\n",
       "      <td>40.198471</td>\n",
       "      <td>21.807060</td>\n",
       "      <td>10.0</td>\n",
       "      <td>12.0</td>\n",
       "      <td>17.0</td>\n",
       "      <td>2017</td>\n",
       "      <td>0.007122</td>\n",
       "      <td>1</td>\n",
       "      <td>1</td>\n",
       "      <td>1</td>\n",
       "      <td>264</td>\n",
       "      <td>0</td>\n",
       "      <td>540.0</td>\n",
       "      <td>0</td>\n",
       "      <td>1</td>\n",
       "      <td>1</td>\n",
       "      <td>126706.958434</td>\n",
       "    </tr>\n",
       "    <tr>\n",
       "      <th>4997</th>\n",
       "      <td>5783</td>\n",
       "      <td>12</td>\n",
       "      <td>3.0</td>\n",
       "      <td>77.842178</td>\n",
       "      <td>48.282623</td>\n",
       "      <td>9.0</td>\n",
       "      <td>22.0</td>\n",
       "      <td>22.0</td>\n",
       "      <td>1989</td>\n",
       "      <td>0.090799</td>\n",
       "      <td>1</td>\n",
       "      <td>1</td>\n",
       "      <td>74</td>\n",
       "      <td>19083</td>\n",
       "      <td>2</td>\n",
       "      <td>1322.0</td>\n",
       "      <td>5</td>\n",
       "      <td>15</td>\n",
       "      <td>1</td>\n",
       "      <td>326406.623145</td>\n",
       "    </tr>\n",
       "    <tr>\n",
       "      <th>4998</th>\n",
       "      <td>4780</td>\n",
       "      <td>62</td>\n",
       "      <td>2.0</td>\n",
       "      <td>81.305222</td>\n",
       "      <td>34.398117</td>\n",
       "      <td>6.0</td>\n",
       "      <td>4.0</td>\n",
       "      <td>12.0</td>\n",
       "      <td>1977</td>\n",
       "      <td>0.072158</td>\n",
       "      <td>1</td>\n",
       "      <td>1</td>\n",
       "      <td>2</td>\n",
       "      <td>629</td>\n",
       "      <td>1</td>\n",
       "      <td>35.0</td>\n",
       "      <td>0</td>\n",
       "      <td>0</td>\n",
       "      <td>0</td>\n",
       "      <td>184895.108333</td>\n",
       "    </tr>\n",
       "    <tr>\n",
       "      <th>4999</th>\n",
       "      <td>12504</td>\n",
       "      <td>30</td>\n",
       "      <td>2.0</td>\n",
       "      <td>60.555695</td>\n",
       "      <td>34.398117</td>\n",
       "      <td>6.0</td>\n",
       "      <td>10.0</td>\n",
       "      <td>17.0</td>\n",
       "      <td>1977</td>\n",
       "      <td>0.000078</td>\n",
       "      <td>1</td>\n",
       "      <td>1</td>\n",
       "      <td>22</td>\n",
       "      <td>6398</td>\n",
       "      <td>141</td>\n",
       "      <td>1046.0</td>\n",
       "      <td>3</td>\n",
       "      <td>23</td>\n",
       "      <td>1</td>\n",
       "      <td>175180.814323</td>\n",
       "    </tr>\n",
       "  </tbody>\n",
       "</table>\n",
       "<p>5000 rows × 20 columns</p>\n",
       "</div>"
      ],
      "text/plain": [
       "         Id  DistrictId  Rooms     Square  LifeSquare  KitchenSquare  Floor  \\\n",
       "0       725          58    2.0  49.882645   33.432781            6.0    6.0   \n",
       "1     15856          74    2.0  69.263184   34.398117            6.0    1.0   \n",
       "2      5480         190    1.0  86.119522   30.301666           12.0    2.0   \n",
       "3     15664          47    2.0  73.046608   51.940842            9.0   22.0   \n",
       "4     14275          27    1.0  47.527111   43.387569            6.0   17.0   \n",
       "...     ...         ...    ...        ...         ...            ...    ...   \n",
       "4995   8180          11    3.0  67.133911   50.809795            6.0    5.0   \n",
       "4996   4695           1    1.0  40.198471   21.807060           10.0   12.0   \n",
       "4997   5783          12    3.0  77.842178   48.282623            9.0   22.0   \n",
       "4998   4780          62    2.0  81.305222   34.398117            6.0    4.0   \n",
       "4999  12504          30    2.0  60.555695   34.398117            6.0   10.0   \n",
       "\n",
       "      HouseFloor  HouseYear  Ecology_1  Ecology_2  Ecology_3  Social_1  \\\n",
       "0           14.0       1972   0.310199          1          1        11   \n",
       "1            1.0       1977   0.075779          1          1         6   \n",
       "2            5.0       1909   0.000000          1          1        30   \n",
       "3           22.0       2007   0.101872          1          1        23   \n",
       "4           17.0       2017   0.072158          1          1         2   \n",
       "...          ...        ...        ...        ...        ...       ...   \n",
       "4995         9.0       1973   0.000170          1          1        36   \n",
       "4996        17.0       2017   0.007122          1          1         1   \n",
       "4997        22.0       1989   0.090799          1          1        74   \n",
       "4998        12.0       1977   0.072158          1          1         2   \n",
       "4999        17.0       1977   0.000078          1          1        22   \n",
       "\n",
       "      Social_2  Social_3  Healthcare_1  Helthcare_2  Shops_1  Shops_2  \\\n",
       "0         2748         1          32.0            0        0        1   \n",
       "1         1437         3        1084.0            0        2        1   \n",
       "2         7538        87        4702.0            5        5        1   \n",
       "3         4583         3        1084.0            3        3        1   \n",
       "4          629         1          35.0            0        0        0   \n",
       "...        ...       ...           ...          ...      ...      ...   \n",
       "4995      5992         0        1183.0            1        1        1   \n",
       "4996       264         0         540.0            0        1        1   \n",
       "4997     19083         2        1322.0            5       15        1   \n",
       "4998       629         1          35.0            0        0        0   \n",
       "4999      6398       141        1046.0            3       23        1   \n",
       "\n",
       "              Price  \n",
       "0     161512.943904  \n",
       "1     234582.249081  \n",
       "2     319719.503646  \n",
       "3     346388.501854  \n",
       "4     143832.927989  \n",
       "...             ...  \n",
       "4995  245878.402799  \n",
       "4996  126706.958434  \n",
       "4997  326406.623145  \n",
       "4998  184895.108333  \n",
       "4999  175180.814323  \n",
       "\n",
       "[5000 rows x 20 columns]"
      ]
     },
     "execution_count": 75,
     "metadata": {},
     "output_type": "execute_result"
    }
   ],
   "source": [
    "df_test['Price'] = y_test_preds_res\n",
    "df_test"
   ]
  },
  {
   "cell_type": "code",
   "execution_count": 76,
   "metadata": {},
   "outputs": [],
   "source": [
    "RES_DATASET_PATH = 'AVSokolov_predictions_6_1.csv'\n",
    "df_test[['Id', 'Price']].to_csv(RES_DATASET_PATH, index=None, encoding='utf-8')"
   ]
  },
  {
   "cell_type": "code",
   "execution_count": null,
   "metadata": {},
   "outputs": [],
   "source": []
  }
 ],
 "metadata": {
  "kernelspec": {
   "display_name": "Python 3",
   "language": "python",
   "name": "python3"
  },
  "language_info": {
   "codemirror_mode": {
    "name": "ipython",
    "version": 3
   },
   "file_extension": ".py",
   "mimetype": "text/x-python",
   "name": "python",
   "nbconvert_exporter": "python",
   "pygments_lexer": "ipython3",
   "version": "3.8.5"
  }
 },
 "nbformat": 4,
 "nbformat_minor": 4
}
